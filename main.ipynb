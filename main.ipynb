{
 "cells": [
  {
   "cell_type": "code",
   "execution_count": 1,
   "metadata": {},
   "outputs": [],
   "source": [
    "from torchvision import datasets\n",
    "from torchvision.transforms import ToTensor"
   ]
  },
  {
   "cell_type": "code",
   "execution_count": 2,
   "metadata": {},
   "outputs": [
    {
     "name": "stdout",
     "output_type": "stream",
     "text": [
      "Downloading http://yann.lecun.com/exdb/mnist/train-images-idx3-ubyte.gz\n",
      "Failed to download (trying next):\n",
      "HTTP Error 403: Forbidden\n",
      "\n",
      "Downloading https://ossci-datasets.s3.amazonaws.com/mnist/train-images-idx3-ubyte.gz\n",
      "Downloading https://ossci-datasets.s3.amazonaws.com/mnist/train-images-idx3-ubyte.gz to data/MNIST/raw/train-images-idx3-ubyte.gz\n"
     ]
    },
    {
     "name": "stderr",
     "output_type": "stream",
     "text": [
      "100.0%\n"
     ]
    },
    {
     "name": "stdout",
     "output_type": "stream",
     "text": [
      "Extracting data/MNIST/raw/train-images-idx3-ubyte.gz to data/MNIST/raw\n",
      "\n",
      "Downloading http://yann.lecun.com/exdb/mnist/train-labels-idx1-ubyte.gz\n",
      "Failed to download (trying next):\n",
      "HTTP Error 403: Forbidden\n",
      "\n",
      "Downloading https://ossci-datasets.s3.amazonaws.com/mnist/train-labels-idx1-ubyte.gz\n",
      "Downloading https://ossci-datasets.s3.amazonaws.com/mnist/train-labels-idx1-ubyte.gz to data/MNIST/raw/train-labels-idx1-ubyte.gz\n"
     ]
    },
    {
     "name": "stderr",
     "output_type": "stream",
     "text": [
      "100.0%\n"
     ]
    },
    {
     "name": "stdout",
     "output_type": "stream",
     "text": [
      "Extracting data/MNIST/raw/train-labels-idx1-ubyte.gz to data/MNIST/raw\n",
      "\n",
      "Downloading http://yann.lecun.com/exdb/mnist/t10k-images-idx3-ubyte.gz\n",
      "Failed to download (trying next):\n",
      "HTTP Error 403: Forbidden\n",
      "\n",
      "Downloading https://ossci-datasets.s3.amazonaws.com/mnist/t10k-images-idx3-ubyte.gz\n",
      "Downloading https://ossci-datasets.s3.amazonaws.com/mnist/t10k-images-idx3-ubyte.gz to data/MNIST/raw/t10k-images-idx3-ubyte.gz\n"
     ]
    },
    {
     "name": "stderr",
     "output_type": "stream",
     "text": [
      "100.0%\n"
     ]
    },
    {
     "name": "stdout",
     "output_type": "stream",
     "text": [
      "Extracting data/MNIST/raw/t10k-images-idx3-ubyte.gz to data/MNIST/raw\n",
      "\n",
      "Downloading http://yann.lecun.com/exdb/mnist/t10k-labels-idx1-ubyte.gz\n",
      "Failed to download (trying next):\n",
      "HTTP Error 403: Forbidden\n",
      "\n",
      "Downloading https://ossci-datasets.s3.amazonaws.com/mnist/t10k-labels-idx1-ubyte.gz\n",
      "Downloading https://ossci-datasets.s3.amazonaws.com/mnist/t10k-labels-idx1-ubyte.gz to data/MNIST/raw/t10k-labels-idx1-ubyte.gz\n"
     ]
    },
    {
     "name": "stderr",
     "output_type": "stream",
     "text": [
      "100.0%"
     ]
    },
    {
     "name": "stdout",
     "output_type": "stream",
     "text": [
      "Extracting data/MNIST/raw/t10k-labels-idx1-ubyte.gz to data/MNIST/raw\n",
      "\n"
     ]
    },
    {
     "name": "stderr",
     "output_type": "stream",
     "text": [
      "\n"
     ]
    }
   ],
   "source": [
    "train_data = datasets.MNIST(\n",
    "    root = 'data',\n",
    "    train = True,\n",
    "    transform = ToTensor(),\n",
    "    download = True\n",
    ")\n",
    "test_data = datasets.MNIST(\n",
    "    root = 'data',\n",
    "    train = False,\n",
    "    transform = ToTensor(),\n",
    "    download = True\n",
    ")"
   ]
  },
  {
   "cell_type": "code",
   "execution_count": 3,
   "metadata": {},
   "outputs": [
    {
     "data": {
      "text/plain": [
       "Dataset MNIST\n",
       "    Number of datapoints: 60000\n",
       "    Root location: data\n",
       "    Split: Train\n",
       "    StandardTransform\n",
       "Transform: ToTensor()"
      ]
     },
     "execution_count": 3,
     "metadata": {},
     "output_type": "execute_result"
    }
   ],
   "source": [
    "train_data"
   ]
  },
  {
   "cell_type": "code",
   "execution_count": 4,
   "metadata": {},
   "outputs": [
    {
     "data": {
      "text/plain": [
       "Dataset MNIST\n",
       "    Number of datapoints: 10000\n",
       "    Root location: data\n",
       "    Split: Test\n",
       "    StandardTransform\n",
       "Transform: ToTensor()"
      ]
     },
     "execution_count": 4,
     "metadata": {},
     "output_type": "execute_result"
    }
   ],
   "source": [
    "test_data"
   ]
  },
  {
   "cell_type": "code",
   "execution_count": 6,
   "metadata": {},
   "outputs": [
    {
     "data": {
      "text/plain": [
       "torch.Size([60000, 28, 28])"
      ]
     },
     "execution_count": 6,
     "metadata": {},
     "output_type": "execute_result"
    }
   ],
   "source": [
    "train_data.data.shape"
   ]
  },
  {
   "cell_type": "code",
   "execution_count": 8,
   "metadata": {},
   "outputs": [
    {
     "data": {
      "text/plain": [
       "torch.Size([60000])"
      ]
     },
     "execution_count": 8,
     "metadata": {},
     "output_type": "execute_result"
    }
   ],
   "source": [
    "train_data.targets.size()"
   ]
  },
  {
   "cell_type": "code",
   "execution_count": 10,
   "metadata": {},
   "outputs": [],
   "source": [
    "from torch.utils.data import DataLoader\n",
    "\n",
    "loaders = {\n",
    "\n",
    "    'train': DataLoader(train_data,\n",
    "                        batch_size=100,\n",
    "                        shuffle=True,\n",
    "                        num_workers=1),\n",
    "    \n",
    "    'test': DataLoader(test_data,\n",
    "                        batch_size=100,\n",
    "                        shuffle=True,\n",
    "                        num_workers=1)\n",
    "\n",
    "}"
   ]
  },
  {
   "cell_type": "code",
   "execution_count": 11,
   "metadata": {},
   "outputs": [
    {
     "data": {
      "text/plain": [
       "{'train': <torch.utils.data.dataloader.DataLoader at 0x339b95280>,\n",
       " 'test': <torch.utils.data.dataloader.DataLoader at 0x339b96300>}"
      ]
     },
     "execution_count": 11,
     "metadata": {},
     "output_type": "execute_result"
    }
   ],
   "source": [
    "loaders"
   ]
  },
  {
   "cell_type": "code",
   "execution_count": 12,
   "metadata": {},
   "outputs": [],
   "source": [
    "import torch.nn as nn\n",
    "import torch.nn.functional as F\n",
    "import torch.optim as optim\n",
    "\n",
    "class CNN(nn.Module):\n",
    "\n",
    "    def __init__(self):\n",
    "        super(CNN, self).__init__()\n",
    "\n",
    "        self.conv1 = nn.Conv2d(1, 10, kernel_size=5)\n",
    "        self.conv2 = nn.Conv2d(10, 20, kernel_size=5)\n",
    "        self.conv2_drop = nn.Dropout2d()\n",
    "        self.fc1 = nn.Linear(320, 50)\n",
    "        self.fc2 = nn.Linear(50, 10)\n",
    "    \n",
    "    def forward(self, x):\n",
    "        x = F.relu(F.max_pool2d(self.conv1(x), 2))\n",
    "        x = F.relu(F.max_pool2d(self.conv2_drop(self.conv2(x)), 2))\n",
    "        x = x.view(-1, 320)\n",
    "        x = F.relu(self.fc1(x))\n",
    "        x = F.dropout(x, training=self.training)\n",
    "        self = self.fc2(x)\n",
    "\n",
    "        return F.softmax(x)"
   ]
  },
  {
   "cell_type": "code",
   "execution_count": 39,
   "metadata": {},
   "outputs": [
    {
     "name": "stdout",
     "output_type": "stream",
     "text": [
      "True\n"
     ]
    }
   ],
   "source": [
    "import torch\n",
    "print(torch.backends.mps.is_available())\n",
    "\n",
    "# device = torch.device('mps' if torch.cuda.is_available() else 'cpu')\n",
    "device = torch.device('cpu')\n",
    "#device = torch.device('mps')\n",
    "\n",
    "model = CNN().to(device)\n",
    "\n",
    "optimizer = optim.Adam(model.parameters(), lr=0.001)\n",
    "\n",
    "loss_fn = nn.CrossEntropyLoss()\n",
    "\n",
    "def train(epoch):\n",
    "    model.train()\n",
    "    for batch_idx, (data, target) in enumerate(loaders['train']):\n",
    "        data, target = data.to(device), target.to(device)\n",
    "        optimizer.zero_grad()\n",
    "        output = model(data)\n",
    "        loss = loss_fn(output, target)\n",
    "        loss.backward()\n",
    "        optimizer.step()\n",
    "        if batch_idx % 20 == 0:\n",
    "            print(f'Train Epoch: {epoch} [{batch_idx * len(data)}/{len(loaders[\"train\"].dataset)} ({100. * batch_idx/len(loaders[\"train\"]):.0f}%)]\\t{loss.item():.6f}')\n",
    "\n",
    "def test():\n",
    "    model.eval()\n",
    "\n",
    "    test_loss = 0\n",
    "    correct = 0\n",
    "    with torch.no_grad():\n",
    "        for data, target in loaders['test']:\n",
    "            data, target = data.to(device), target.to(device)\n",
    "            output = model(data)\n",
    "            test_loss += loss_fn(output, target).item()\n",
    "            pred = output.argmax(dim=1, keepdim=True)\n",
    "            correct += pred.eq(target.view_as(pred)).sum().item()\n",
    "\n",
    "    test_loss /= len(loaders['test'].dataset)\n",
    "    print(f'\\nTest set: Average loss: {test_loss:.4f}, Accuracy {correct}/{len(loaders[\"test\"].dataset)} ({100. * correct / len(loaders[\"test\"].dataset):.0f}%\\n)')\n",
    "    \n"
   ]
  },
  {
   "cell_type": "code",
   "execution_count": 40,
   "metadata": {},
   "outputs": [
    {
     "name": "stderr",
     "output_type": "stream",
     "text": [
      "/var/folders/8_/qqhcw4rd4m72212dbpl453gh0000gn/T/ipykernel_47958/845714647.py:24: UserWarning: Implicit dimension choice for softmax has been deprecated. Change the call to include dim=X as an argument.\n",
      "  return F.softmax(x)\n"
     ]
    },
    {
     "name": "stdout",
     "output_type": "stream",
     "text": [
      "Train Epoch: 1 [0/60000 (0%)]\t3.912269\n",
      "Train Epoch: 1 [2000/60000 (3%)]\t3.838792\n",
      "Train Epoch: 1 [4000/60000 (7%)]\t3.830010\n",
      "Train Epoch: 1 [6000/60000 (10%)]\t3.742484\n",
      "Train Epoch: 1 [8000/60000 (13%)]\t3.594679\n",
      "Train Epoch: 1 [10000/60000 (17%)]\t3.654205\n",
      "Train Epoch: 1 [12000/60000 (20%)]\t3.568914\n",
      "Train Epoch: 1 [14000/60000 (23%)]\t3.564157\n",
      "Train Epoch: 1 [16000/60000 (27%)]\t3.602717\n",
      "Train Epoch: 1 [18000/60000 (30%)]\t3.548820\n",
      "Train Epoch: 1 [20000/60000 (33%)]\t3.600796\n",
      "Train Epoch: 1 [22000/60000 (37%)]\t3.516576\n",
      "Train Epoch: 1 [24000/60000 (40%)]\t3.586624\n",
      "Train Epoch: 1 [26000/60000 (43%)]\t3.598437\n",
      "Train Epoch: 1 [28000/60000 (47%)]\t3.531099\n",
      "Train Epoch: 1 [30000/60000 (50%)]\t3.535646\n",
      "Train Epoch: 1 [32000/60000 (53%)]\t3.554909\n",
      "Train Epoch: 1 [34000/60000 (57%)]\t3.564948\n",
      "Train Epoch: 1 [36000/60000 (60%)]\t3.481260\n",
      "Train Epoch: 1 [38000/60000 (63%)]\t3.600493\n",
      "Train Epoch: 1 [40000/60000 (67%)]\t3.425917\n",
      "Train Epoch: 1 [42000/60000 (70%)]\t3.579615\n",
      "Train Epoch: 1 [44000/60000 (73%)]\t3.536091\n",
      "Train Epoch: 1 [46000/60000 (77%)]\t3.521887\n",
      "Train Epoch: 1 [48000/60000 (80%)]\t3.491790\n",
      "Train Epoch: 1 [50000/60000 (83%)]\t3.510411\n",
      "Train Epoch: 1 [52000/60000 (87%)]\t3.535220\n",
      "Train Epoch: 1 [54000/60000 (90%)]\t3.509331\n",
      "Train Epoch: 1 [56000/60000 (93%)]\t3.599799\n",
      "Train Epoch: 1 [58000/60000 (97%)]\t3.558151\n",
      "\n",
      "Test set: Average loss: 0.0313, Accuracy 8447/10000 (84%\n",
      ")\n",
      "Train Epoch: 2 [0/60000 (0%)]\t3.438939\n",
      "Train Epoch: 2 [2000/60000 (3%)]\t3.583476\n",
      "Train Epoch: 2 [4000/60000 (7%)]\t3.546474\n",
      "Train Epoch: 2 [6000/60000 (10%)]\t3.541251\n",
      "Train Epoch: 2 [8000/60000 (13%)]\t3.514895\n",
      "Train Epoch: 2 [10000/60000 (17%)]\t3.558942\n",
      "Train Epoch: 2 [12000/60000 (20%)]\t3.475805\n",
      "Train Epoch: 2 [14000/60000 (23%)]\t3.574029\n",
      "Train Epoch: 2 [16000/60000 (27%)]\t3.537109\n",
      "Train Epoch: 2 [18000/60000 (30%)]\t3.533103\n",
      "Train Epoch: 2 [20000/60000 (33%)]\t3.504089\n",
      "Train Epoch: 2 [22000/60000 (37%)]\t3.554137\n",
      "Train Epoch: 2 [24000/60000 (40%)]\t3.562626\n",
      "Train Epoch: 2 [26000/60000 (43%)]\t3.489752\n",
      "Train Epoch: 2 [28000/60000 (47%)]\t3.533671\n",
      "Train Epoch: 2 [30000/60000 (50%)]\t3.432785\n",
      "Train Epoch: 2 [32000/60000 (53%)]\t3.516409\n",
      "Train Epoch: 2 [34000/60000 (57%)]\t3.494704\n",
      "Train Epoch: 2 [36000/60000 (60%)]\t3.572900\n",
      "Train Epoch: 2 [38000/60000 (63%)]\t3.531607\n",
      "Train Epoch: 2 [40000/60000 (67%)]\t3.546369\n",
      "Train Epoch: 2 [42000/60000 (70%)]\t3.486104\n",
      "Train Epoch: 2 [44000/60000 (73%)]\t3.437809\n",
      "Train Epoch: 2 [46000/60000 (77%)]\t3.524846\n",
      "Train Epoch: 2 [48000/60000 (80%)]\t3.417252\n",
      "Train Epoch: 2 [50000/60000 (83%)]\t3.498821\n",
      "Train Epoch: 2 [52000/60000 (87%)]\t3.525301\n",
      "Train Epoch: 2 [54000/60000 (90%)]\t3.503766\n",
      "Train Epoch: 2 [56000/60000 (93%)]\t3.508593\n",
      "Train Epoch: 2 [58000/60000 (97%)]\t3.500715\n",
      "\n",
      "Test set: Average loss: 0.0311, Accuracy 8592/10000 (86%\n",
      ")\n",
      "Train Epoch: 3 [0/60000 (0%)]\t3.450445\n",
      "Train Epoch: 3 [2000/60000 (3%)]\t3.479324\n",
      "Train Epoch: 3 [4000/60000 (7%)]\t3.569645\n",
      "Train Epoch: 3 [6000/60000 (10%)]\t3.549577\n",
      "Train Epoch: 3 [8000/60000 (13%)]\t3.511257\n",
      "Train Epoch: 3 [10000/60000 (17%)]\t3.532032\n",
      "Train Epoch: 3 [12000/60000 (20%)]\t3.492820\n",
      "Train Epoch: 3 [14000/60000 (23%)]\t3.496123\n",
      "Train Epoch: 3 [16000/60000 (27%)]\t3.531137\n",
      "Train Epoch: 3 [18000/60000 (30%)]\t3.545989\n",
      "Train Epoch: 3 [20000/60000 (33%)]\t3.561486\n",
      "Train Epoch: 3 [22000/60000 (37%)]\t3.618247\n",
      "Train Epoch: 3 [24000/60000 (40%)]\t3.513751\n",
      "Train Epoch: 3 [26000/60000 (43%)]\t3.504002\n",
      "Train Epoch: 3 [28000/60000 (47%)]\t3.531956\n",
      "Train Epoch: 3 [30000/60000 (50%)]\t3.524013\n",
      "Train Epoch: 3 [32000/60000 (53%)]\t3.595640\n",
      "Train Epoch: 3 [34000/60000 (57%)]\t3.525527\n",
      "Train Epoch: 3 [36000/60000 (60%)]\t3.522198\n",
      "Train Epoch: 3 [38000/60000 (63%)]\t3.456277\n",
      "Train Epoch: 3 [40000/60000 (67%)]\t3.482320\n",
      "Train Epoch: 3 [42000/60000 (70%)]\t3.443146\n",
      "Train Epoch: 3 [44000/60000 (73%)]\t3.477176\n",
      "Train Epoch: 3 [46000/60000 (77%)]\t3.497088\n",
      "Train Epoch: 3 [48000/60000 (80%)]\t3.507508\n",
      "Train Epoch: 3 [50000/60000 (83%)]\t3.557794\n",
      "Train Epoch: 3 [52000/60000 (87%)]\t3.542526\n",
      "Train Epoch: 3 [54000/60000 (90%)]\t3.443532\n",
      "Train Epoch: 3 [56000/60000 (93%)]\t3.484581\n",
      "Train Epoch: 3 [58000/60000 (97%)]\t3.514956\n",
      "\n",
      "Test set: Average loss: 0.0310, Accuracy 8646/10000 (86%\n",
      ")\n",
      "Train Epoch: 4 [0/60000 (0%)]\t3.442035\n",
      "Train Epoch: 4 [2000/60000 (3%)]\t3.530501\n",
      "Train Epoch: 4 [4000/60000 (7%)]\t3.465835\n",
      "Train Epoch: 4 [6000/60000 (10%)]\t3.489715\n",
      "Train Epoch: 4 [8000/60000 (13%)]\t3.539093\n",
      "Train Epoch: 4 [10000/60000 (17%)]\t3.500039\n",
      "Train Epoch: 4 [12000/60000 (20%)]\t3.478355\n",
      "Train Epoch: 4 [14000/60000 (23%)]\t3.484568\n",
      "Train Epoch: 4 [16000/60000 (27%)]\t3.517026\n",
      "Train Epoch: 4 [18000/60000 (30%)]\t3.479879\n",
      "Train Epoch: 4 [20000/60000 (33%)]\t3.528842\n",
      "Train Epoch: 4 [22000/60000 (37%)]\t3.510983\n",
      "Train Epoch: 4 [24000/60000 (40%)]\t3.493806\n",
      "Train Epoch: 4 [26000/60000 (43%)]\t3.450366\n",
      "Train Epoch: 4 [28000/60000 (47%)]\t3.469999\n",
      "Train Epoch: 4 [30000/60000 (50%)]\t3.520666\n",
      "Train Epoch: 4 [32000/60000 (53%)]\t3.471676\n",
      "Train Epoch: 4 [34000/60000 (57%)]\t3.546273\n",
      "Train Epoch: 4 [36000/60000 (60%)]\t3.568578\n",
      "Train Epoch: 4 [38000/60000 (63%)]\t3.454895\n",
      "Train Epoch: 4 [40000/60000 (67%)]\t3.490848\n",
      "Train Epoch: 4 [42000/60000 (70%)]\t3.525683\n",
      "Train Epoch: 4 [44000/60000 (73%)]\t3.467730\n",
      "Train Epoch: 4 [46000/60000 (77%)]\t3.542558\n",
      "Train Epoch: 4 [48000/60000 (80%)]\t3.426663\n",
      "Train Epoch: 4 [50000/60000 (83%)]\t3.520062\n",
      "Train Epoch: 4 [52000/60000 (87%)]\t3.521553\n",
      "Train Epoch: 4 [54000/60000 (90%)]\t3.513706\n",
      "Train Epoch: 4 [56000/60000 (93%)]\t3.504191\n",
      "Train Epoch: 4 [58000/60000 (97%)]\t3.448431\n",
      "\n",
      "Test set: Average loss: 0.0309, Accuracy 8699/10000 (87%\n",
      ")\n",
      "Train Epoch: 5 [0/60000 (0%)]\t3.498992\n",
      "Train Epoch: 5 [2000/60000 (3%)]\t3.471360\n",
      "Train Epoch: 5 [4000/60000 (7%)]\t3.571104\n",
      "Train Epoch: 5 [6000/60000 (10%)]\t3.516706\n",
      "Train Epoch: 5 [8000/60000 (13%)]\t3.414998\n",
      "Train Epoch: 5 [10000/60000 (17%)]\t3.439487\n",
      "Train Epoch: 5 [12000/60000 (20%)]\t3.542927\n",
      "Train Epoch: 5 [14000/60000 (23%)]\t3.483546\n",
      "Train Epoch: 5 [16000/60000 (27%)]\t3.507448\n",
      "Train Epoch: 5 [18000/60000 (30%)]\t3.534211\n",
      "Train Epoch: 5 [20000/60000 (33%)]\t3.426247\n",
      "Train Epoch: 5 [22000/60000 (37%)]\t3.399613\n",
      "Train Epoch: 5 [24000/60000 (40%)]\t3.521979\n",
      "Train Epoch: 5 [26000/60000 (43%)]\t3.463865\n",
      "Train Epoch: 5 [28000/60000 (47%)]\t3.485112\n",
      "Train Epoch: 5 [30000/60000 (50%)]\t3.563296\n",
      "Train Epoch: 5 [32000/60000 (53%)]\t3.486834\n",
      "Train Epoch: 5 [34000/60000 (57%)]\t3.463549\n",
      "Train Epoch: 5 [36000/60000 (60%)]\t3.502537\n",
      "Train Epoch: 5 [38000/60000 (63%)]\t3.518241\n",
      "Train Epoch: 5 [40000/60000 (67%)]\t3.582068\n",
      "Train Epoch: 5 [42000/60000 (70%)]\t3.511674\n",
      "Train Epoch: 5 [44000/60000 (73%)]\t3.475819\n",
      "Train Epoch: 5 [46000/60000 (77%)]\t3.560638\n",
      "Train Epoch: 5 [48000/60000 (80%)]\t3.512170\n",
      "Train Epoch: 5 [50000/60000 (83%)]\t3.560599\n",
      "Train Epoch: 5 [52000/60000 (87%)]\t3.409965\n",
      "Train Epoch: 5 [54000/60000 (90%)]\t3.464933\n",
      "Train Epoch: 5 [56000/60000 (93%)]\t3.523007\n",
      "Train Epoch: 5 [58000/60000 (97%)]\t3.466856\n",
      "\n",
      "Test set: Average loss: 0.0308, Accuracy 8697/10000 (87%\n",
      ")\n",
      "Train Epoch: 6 [0/60000 (0%)]\t3.512646\n",
      "Train Epoch: 6 [2000/60000 (3%)]\t3.512313\n",
      "Train Epoch: 6 [4000/60000 (7%)]\t3.529372\n",
      "Train Epoch: 6 [6000/60000 (10%)]\t3.532394\n",
      "Train Epoch: 6 [8000/60000 (13%)]\t3.495777\n",
      "Train Epoch: 6 [10000/60000 (17%)]\t3.473299\n",
      "Train Epoch: 6 [12000/60000 (20%)]\t3.460786\n",
      "Train Epoch: 6 [14000/60000 (23%)]\t3.416952\n",
      "Train Epoch: 6 [16000/60000 (27%)]\t3.477013\n",
      "Train Epoch: 6 [18000/60000 (30%)]\t3.481410\n",
      "Train Epoch: 6 [20000/60000 (33%)]\t3.540971\n",
      "Train Epoch: 6 [22000/60000 (37%)]\t3.463817\n",
      "Train Epoch: 6 [24000/60000 (40%)]\t3.521611\n",
      "Train Epoch: 6 [26000/60000 (43%)]\t3.494068\n",
      "Train Epoch: 6 [28000/60000 (47%)]\t3.505476\n",
      "Train Epoch: 6 [30000/60000 (50%)]\t3.476484\n",
      "Train Epoch: 6 [32000/60000 (53%)]\t3.608508\n",
      "Train Epoch: 6 [34000/60000 (57%)]\t3.511650\n",
      "Train Epoch: 6 [36000/60000 (60%)]\t3.439815\n",
      "Train Epoch: 6 [38000/60000 (63%)]\t3.532043\n",
      "Train Epoch: 6 [40000/60000 (67%)]\t3.385886\n",
      "Train Epoch: 6 [42000/60000 (70%)]\t3.452080\n",
      "Train Epoch: 6 [44000/60000 (73%)]\t3.549531\n",
      "Train Epoch: 6 [46000/60000 (77%)]\t3.387774\n",
      "Train Epoch: 6 [48000/60000 (80%)]\t3.508623\n",
      "Train Epoch: 6 [50000/60000 (83%)]\t3.472663\n",
      "Train Epoch: 6 [52000/60000 (87%)]\t3.502326\n",
      "Train Epoch: 6 [54000/60000 (90%)]\t3.458761\n",
      "Train Epoch: 6 [56000/60000 (93%)]\t3.550173\n",
      "Train Epoch: 6 [58000/60000 (97%)]\t3.540825\n",
      "\n",
      "Test set: Average loss: 0.0308, Accuracy 8733/10000 (87%\n",
      ")\n",
      "Train Epoch: 7 [0/60000 (0%)]\t3.453333\n",
      "Train Epoch: 7 [2000/60000 (3%)]\t3.474085\n",
      "Train Epoch: 7 [4000/60000 (7%)]\t3.477149\n",
      "Train Epoch: 7 [6000/60000 (10%)]\t3.472125\n",
      "Train Epoch: 7 [8000/60000 (13%)]\t3.456179\n",
      "Train Epoch: 7 [10000/60000 (17%)]\t3.469762\n",
      "Train Epoch: 7 [12000/60000 (20%)]\t3.395122\n",
      "Train Epoch: 7 [14000/60000 (23%)]\t3.599343\n",
      "Train Epoch: 7 [16000/60000 (27%)]\t3.519985\n",
      "Train Epoch: 7 [18000/60000 (30%)]\t3.469077\n",
      "Train Epoch: 7 [20000/60000 (33%)]\t3.464459\n",
      "Train Epoch: 7 [22000/60000 (37%)]\t3.470255\n",
      "Train Epoch: 7 [24000/60000 (40%)]\t3.532167\n",
      "Train Epoch: 7 [26000/60000 (43%)]\t3.524504\n",
      "Train Epoch: 7 [28000/60000 (47%)]\t3.616006\n",
      "Train Epoch: 7 [30000/60000 (50%)]\t3.530042\n",
      "Train Epoch: 7 [32000/60000 (53%)]\t3.562943\n",
      "Train Epoch: 7 [34000/60000 (57%)]\t3.471223\n",
      "Train Epoch: 7 [36000/60000 (60%)]\t3.582004\n",
      "Train Epoch: 7 [38000/60000 (63%)]\t3.453023\n",
      "Train Epoch: 7 [40000/60000 (67%)]\t3.423239\n",
      "Train Epoch: 7 [42000/60000 (70%)]\t3.510598\n",
      "Train Epoch: 7 [44000/60000 (73%)]\t3.502458\n",
      "Train Epoch: 7 [46000/60000 (77%)]\t3.513995\n",
      "Train Epoch: 7 [48000/60000 (80%)]\t3.502752\n",
      "Train Epoch: 7 [50000/60000 (83%)]\t3.473147\n",
      "Train Epoch: 7 [52000/60000 (87%)]\t3.472781\n",
      "Train Epoch: 7 [54000/60000 (90%)]\t3.433055\n",
      "Train Epoch: 7 [56000/60000 (93%)]\t3.394003\n",
      "Train Epoch: 7 [58000/60000 (97%)]\t3.493744\n",
      "\n",
      "Test set: Average loss: 0.0307, Accuracy 8746/10000 (87%\n",
      ")\n",
      "Train Epoch: 8 [0/60000 (0%)]\t3.579488\n",
      "Train Epoch: 8 [2000/60000 (3%)]\t3.542271\n",
      "Train Epoch: 8 [4000/60000 (7%)]\t3.581454\n",
      "Train Epoch: 8 [6000/60000 (10%)]\t3.420829\n",
      "Train Epoch: 8 [8000/60000 (13%)]\t3.552902\n",
      "Train Epoch: 8 [10000/60000 (17%)]\t3.427097\n",
      "Train Epoch: 8 [12000/60000 (20%)]\t3.465898\n",
      "Train Epoch: 8 [14000/60000 (23%)]\t3.469727\n",
      "Train Epoch: 8 [16000/60000 (27%)]\t3.491200\n",
      "Train Epoch: 8 [18000/60000 (30%)]\t3.466660\n",
      "Train Epoch: 8 [20000/60000 (33%)]\t3.423492\n",
      "Train Epoch: 8 [22000/60000 (37%)]\t3.578196\n",
      "Train Epoch: 8 [24000/60000 (40%)]\t3.413216\n",
      "Train Epoch: 8 [26000/60000 (43%)]\t3.496884\n",
      "Train Epoch: 8 [28000/60000 (47%)]\t3.413885\n",
      "Train Epoch: 8 [30000/60000 (50%)]\t3.509739\n",
      "Train Epoch: 8 [32000/60000 (53%)]\t3.501623\n",
      "Train Epoch: 8 [34000/60000 (57%)]\t3.531739\n",
      "Train Epoch: 8 [36000/60000 (60%)]\t3.526487\n",
      "Train Epoch: 8 [38000/60000 (63%)]\t3.576109\n",
      "Train Epoch: 8 [40000/60000 (67%)]\t3.484024\n",
      "Train Epoch: 8 [42000/60000 (70%)]\t3.594198\n",
      "Train Epoch: 8 [44000/60000 (73%)]\t3.541375\n",
      "Train Epoch: 8 [46000/60000 (77%)]\t3.502232\n",
      "Train Epoch: 8 [48000/60000 (80%)]\t3.422761\n",
      "Train Epoch: 8 [50000/60000 (83%)]\t3.492443\n",
      "Train Epoch: 8 [52000/60000 (87%)]\t3.475722\n",
      "Train Epoch: 8 [54000/60000 (90%)]\t3.438920\n",
      "Train Epoch: 8 [56000/60000 (93%)]\t3.510922\n",
      "Train Epoch: 8 [58000/60000 (97%)]\t3.435726\n",
      "\n",
      "Test set: Average loss: 0.0307, Accuracy 8787/10000 (88%\n",
      ")\n",
      "Train Epoch: 9 [0/60000 (0%)]\t3.402675\n",
      "Train Epoch: 9 [2000/60000 (3%)]\t3.512889\n",
      "Train Epoch: 9 [4000/60000 (7%)]\t3.461502\n",
      "Train Epoch: 9 [6000/60000 (10%)]\t3.456940\n",
      "Train Epoch: 9 [8000/60000 (13%)]\t3.501561\n",
      "Train Epoch: 9 [10000/60000 (17%)]\t3.483150\n",
      "Train Epoch: 9 [12000/60000 (20%)]\t3.563420\n",
      "Train Epoch: 9 [14000/60000 (23%)]\t3.451318\n",
      "Train Epoch: 9 [16000/60000 (27%)]\t3.444567\n",
      "Train Epoch: 9 [18000/60000 (30%)]\t3.523056\n",
      "Train Epoch: 9 [20000/60000 (33%)]\t3.433332\n",
      "Train Epoch: 9 [22000/60000 (37%)]\t3.510877\n",
      "Train Epoch: 9 [24000/60000 (40%)]\t3.481044\n",
      "Train Epoch: 9 [26000/60000 (43%)]\t3.500329\n",
      "Train Epoch: 9 [28000/60000 (47%)]\t3.482986\n",
      "Train Epoch: 9 [30000/60000 (50%)]\t3.528260\n",
      "Train Epoch: 9 [32000/60000 (53%)]\t3.560646\n",
      "Train Epoch: 9 [34000/60000 (57%)]\t3.414977\n",
      "Train Epoch: 9 [36000/60000 (60%)]\t3.549037\n",
      "Train Epoch: 9 [38000/60000 (63%)]\t3.536182\n",
      "Train Epoch: 9 [40000/60000 (67%)]\t3.520206\n",
      "Train Epoch: 9 [42000/60000 (70%)]\t3.492632\n",
      "Train Epoch: 9 [44000/60000 (73%)]\t3.461833\n",
      "Train Epoch: 9 [46000/60000 (77%)]\t3.503114\n",
      "Train Epoch: 9 [48000/60000 (80%)]\t3.433341\n",
      "Train Epoch: 9 [50000/60000 (83%)]\t3.439317\n",
      "Train Epoch: 9 [52000/60000 (87%)]\t3.550519\n",
      "Train Epoch: 9 [54000/60000 (90%)]\t3.489121\n",
      "Train Epoch: 9 [56000/60000 (93%)]\t3.432838\n",
      "Train Epoch: 9 [58000/60000 (97%)]\t3.532287\n",
      "\n",
      "Test set: Average loss: 0.0307, Accuracy 8811/10000 (88%\n",
      ")\n",
      "Train Epoch: 10 [0/60000 (0%)]\t3.539627\n",
      "Train Epoch: 10 [2000/60000 (3%)]\t3.476776\n",
      "Train Epoch: 10 [4000/60000 (7%)]\t3.483121\n",
      "Train Epoch: 10 [6000/60000 (10%)]\t3.530738\n",
      "Train Epoch: 10 [8000/60000 (13%)]\t3.508093\n",
      "Train Epoch: 10 [10000/60000 (17%)]\t3.559491\n",
      "Train Epoch: 10 [12000/60000 (20%)]\t3.506722\n",
      "Train Epoch: 10 [14000/60000 (23%)]\t3.484554\n",
      "Train Epoch: 10 [16000/60000 (27%)]\t3.582129\n",
      "Train Epoch: 10 [18000/60000 (30%)]\t3.637582\n",
      "Train Epoch: 10 [20000/60000 (33%)]\t3.465782\n",
      "Train Epoch: 10 [22000/60000 (37%)]\t3.542064\n",
      "Train Epoch: 10 [24000/60000 (40%)]\t3.479970\n",
      "Train Epoch: 10 [26000/60000 (43%)]\t3.482067\n",
      "Train Epoch: 10 [28000/60000 (47%)]\t3.403432\n",
      "Train Epoch: 10 [30000/60000 (50%)]\t3.461865\n",
      "Train Epoch: 10 [32000/60000 (53%)]\t3.617169\n",
      "Train Epoch: 10 [34000/60000 (57%)]\t3.453506\n",
      "Train Epoch: 10 [36000/60000 (60%)]\t3.498240\n",
      "Train Epoch: 10 [38000/60000 (63%)]\t3.424817\n",
      "Train Epoch: 10 [40000/60000 (67%)]\t3.480322\n",
      "Train Epoch: 10 [42000/60000 (70%)]\t3.485229\n",
      "Train Epoch: 10 [44000/60000 (73%)]\t3.472336\n",
      "Train Epoch: 10 [46000/60000 (77%)]\t3.473254\n",
      "Train Epoch: 10 [48000/60000 (80%)]\t3.509805\n",
      "Train Epoch: 10 [50000/60000 (83%)]\t3.541796\n",
      "Train Epoch: 10 [52000/60000 (87%)]\t3.521932\n",
      "Train Epoch: 10 [54000/60000 (90%)]\t3.500091\n",
      "Train Epoch: 10 [56000/60000 (93%)]\t3.466791\n",
      "Train Epoch: 10 [58000/60000 (97%)]\t3.481201\n",
      "\n",
      "Test set: Average loss: 0.0307, Accuracy 8808/10000 (88%\n",
      ")\n"
     ]
    }
   ],
   "source": [
    "for epoch in range(1,11):\n",
    "    train(epoch)\n",
    "    test()"
   ]
  },
  {
   "cell_type": "code",
   "execution_count": 36,
   "metadata": {},
   "outputs": [
    {
     "data": {
      "text/plain": [
       "device(type='mps')"
      ]
     },
     "execution_count": 36,
     "metadata": {},
     "output_type": "execute_result"
    }
   ],
   "source": [
    "import time\n",
    "\n",
    "device = torch.device('cpu')\n",
    "start_time_cpu = time.time()\n",
    "\n",
    "for epoch in range(1,11):\n",
    "    train(epoch)\n",
    "    test()\n",
    "\n",
    "end_time_cpu = time.time() \n",
    "total_time_cpu = end_time_cpu - start_time_cpu\n",
    "\n",
    "device = torch.device('mps') #gpu\n",
    "start_time_gpu = time.time()\n",
    "\n",
    "for epoch in range(1,11):\n",
    "    train(epoch)\n",
    "    test()\n",
    "\n",
    "end_time_gpu = time.time() \n",
    "total_time_gpu = start_time_gpu - end_time_gpu\n",
    "\n",
    "\n",
    "\n",
    "\n",
    "\n",
    "\n",
    "# print(f\"Training on {device_name} took: {total_time:.2f} seconds\")\n",
    "    \n",
    "# return total_time\n",
    "\n",
    "\n",
    "# time_difference = cpu_time - gpu_time\n",
    "# print(f\"Time difference (CPU - GPU): {time_difference:.2f} seconds\")\n"
   ]
  },
  {
   "cell_type": "code",
   "execution_count": null,
   "metadata": {},
   "outputs": [],
   "source": []
  }
 ],
 "metadata": {
  "kernelspec": {
   "display_name": "Python 3",
   "language": "python",
   "name": "python3"
  },
  "language_info": {
   "codemirror_mode": {
    "name": "ipython",
    "version": 3
   },
   "file_extension": ".py",
   "mimetype": "text/x-python",
   "name": "python",
   "nbconvert_exporter": "python",
   "pygments_lexer": "ipython3",
   "version": "3.12.2"
  }
 },
 "nbformat": 4,
 "nbformat_minor": 2
}
