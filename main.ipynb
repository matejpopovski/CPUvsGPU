{
 "cells": [
  {
   "cell_type": "code",
   "execution_count": 1,
   "metadata": {},
   "outputs": [],
   "source": [
    "from torchvision import datasets\n",
    "from torchvision.transforms import ToTensor"
   ]
  },
  {
   "cell_type": "code",
   "execution_count": 2,
   "metadata": {},
   "outputs": [],
   "source": [
    "train_data = datasets.MNIST(\n",
    "    root = 'data',\n",
    "    train = True,\n",
    "    transform = ToTensor(),\n",
    "    download = True\n",
    ")\n",
    "test_data = datasets.MNIST(\n",
    "    root = 'data',\n",
    "    train = False,\n",
    "    transform = ToTensor(),\n",
    "    download = True\n",
    ")"
   ]
  },
  {
   "cell_type": "code",
   "execution_count": 3,
   "metadata": {},
   "outputs": [
    {
     "data": {
      "text/plain": [
       "Dataset MNIST\n",
       "    Number of datapoints: 60000\n",
       "    Root location: data\n",
       "    Split: Train\n",
       "    StandardTransform\n",
       "Transform: ToTensor()"
      ]
     },
     "execution_count": 3,
     "metadata": {},
     "output_type": "execute_result"
    }
   ],
   "source": [
    "train_data"
   ]
  },
  {
   "cell_type": "code",
   "execution_count": 4,
   "metadata": {},
   "outputs": [
    {
     "data": {
      "text/plain": [
       "Dataset MNIST\n",
       "    Number of datapoints: 10000\n",
       "    Root location: data\n",
       "    Split: Test\n",
       "    StandardTransform\n",
       "Transform: ToTensor()"
      ]
     },
     "execution_count": 4,
     "metadata": {},
     "output_type": "execute_result"
    }
   ],
   "source": [
    "test_data"
   ]
  },
  {
   "cell_type": "code",
   "execution_count": 48,
   "metadata": {},
   "outputs": [
    {
     "data": {
      "text/plain": [
       "torch.Size([60000, 28, 28])"
      ]
     },
     "execution_count": 48,
     "metadata": {},
     "output_type": "execute_result"
    }
   ],
   "source": [
    "train_data.data.shape"
   ]
  },
  {
   "cell_type": "code",
   "execution_count": 5,
   "metadata": {},
   "outputs": [
    {
     "data": {
      "text/plain": [
       "torch.Size([60000])"
      ]
     },
     "execution_count": 5,
     "metadata": {},
     "output_type": "execute_result"
    }
   ],
   "source": [
    "train_data.targets.size()"
   ]
  },
  {
   "cell_type": "code",
   "execution_count": 6,
   "metadata": {},
   "outputs": [],
   "source": [
    "from torch.utils.data import DataLoader\n",
    "\n",
    "loaders = {\n",
    "\n",
    "    'train': DataLoader(train_data,\n",
    "                        batch_size=100,\n",
    "                        shuffle=True,\n",
    "                        num_workers=1),\n",
    "    \n",
    "    'test': DataLoader(test_data,\n",
    "                        batch_size=100,\n",
    "                        shuffle=True,\n",
    "                        num_workers=1)\n",
    "\n",
    "}"
   ]
  },
  {
   "cell_type": "code",
   "execution_count": 7,
   "metadata": {},
   "outputs": [
    {
     "data": {
      "text/plain": [
       "{'train': <torch.utils.data.dataloader.DataLoader at 0x111288950>,\n",
       " 'test': <torch.utils.data.dataloader.DataLoader at 0x11124bcb0>}"
      ]
     },
     "execution_count": 7,
     "metadata": {},
     "output_type": "execute_result"
    }
   ],
   "source": [
    "loaders"
   ]
  },
  {
   "cell_type": "code",
   "execution_count": 8,
   "metadata": {},
   "outputs": [],
   "source": [
    "import torch.nn as nn\n",
    "import torch.nn.functional as F\n",
    "import torch.optim as optim\n",
    "\n",
    "class CNN(nn.Module):\n",
    "\n",
    "    def __init__(self):\n",
    "        super(CNN, self).__init__()\n",
    "\n",
    "        self.conv1 = nn.Conv2d(1, 10, kernel_size=5)\n",
    "        self.conv2 = nn.Conv2d(10, 20, kernel_size=5)\n",
    "        self.conv2_drop = nn.Dropout2d()\n",
    "        self.fc1 = nn.Linear(320, 50)\n",
    "        self.fc2 = nn.Linear(50, 10)\n",
    "    \n",
    "    def forward(self, x):\n",
    "        x = F.relu(F.max_pool2d(self.conv1(x), 2))\n",
    "        x = F.relu(F.max_pool2d(self.conv2_drop(self.conv2(x)), 2))\n",
    "        x = x.view(-1, 320)\n",
    "        x = F.relu(self.fc1(x))\n",
    "        x = F.dropout(x, training=self.training)\n",
    "        self = self.fc2(x)\n",
    "\n",
    "        return F.softmax(x)"
   ]
  },
  {
   "cell_type": "code",
   "execution_count": 9,
   "metadata": {},
   "outputs": [
    {
     "name": "stdout",
     "output_type": "stream",
     "text": [
      "True\n"
     ]
    }
   ],
   "source": [
    "import torch\n",
    "print(torch.backends.mps.is_available())\n",
    "\n",
    "# device = torch.device('mps' if torch.cuda.is_available() else 'cpu')\n",
    "device = torch.device('cpu')\n",
    "\n",
    "model = CNN().to(device)\n",
    "\n",
    "optimizer = optim.Adam(model.parameters(), lr=0.001)\n",
    "\n",
    "loss_fn = nn.CrossEntropyLoss()\n",
    "\n",
    "def train(epoch):\n",
    "    model.train()\n",
    "    for batch_idx, (data, target) in enumerate(loaders['train']):\n",
    "        data, target = data.to(device), target.to(device)\n",
    "        optimizer.zero_grad()\n",
    "        output = model(data)\n",
    "        loss = loss_fn(output, target)\n",
    "        loss.backward()\n",
    "        optimizer.step()\n",
    "        if batch_idx % 20 == 0:\n",
    "            print(f'Train Epoch: {epoch} [{batch_idx * len(data)}/{len(loaders[\"train\"].dataset)} ({100. * batch_idx/len(loaders[\"train\"]):.0f}%)]\\t{loss.item():.6f}')\n",
    "\n",
    "def test():\n",
    "    model.eval()\n",
    "\n",
    "    test_loss = 0\n",
    "    correct = 0\n",
    "    with torch.no_grad():\n",
    "        for data, target in loaders['test']:\n",
    "            data, target = data.to(device), target.to(device)\n",
    "            output = model(data)\n",
    "            test_loss += loss_fn(output, target).item()\n",
    "            pred = output.argmax(dim=1, keepdim=True)\n",
    "            correct += pred.eq(target.view_as(pred)).sum().item()\n",
    "\n",
    "    test_loss /= len(loaders['test'].dataset)\n",
    "    print(f'\\nTest set: Average loss: {test_loss:.4f}, Accuracy {correct}/{len(loaders[\"test\"].dataset)} ({100. * correct / len(loaders[\"test\"].dataset):.0f}%\\n)')\n",
    "    "
   ]
  },
  {
   "cell_type": "code",
   "execution_count": 11,
   "metadata": {},
   "outputs": [
    {
     "name": "stderr",
     "output_type": "stream",
     "text": [
      "/var/folders/8_/qqhcw4rd4m72212dbpl453gh0000gn/T/ipykernel_4406/845714647.py:24: UserWarning: Implicit dimension choice for softmax has been deprecated. Change the call to include dim=X as an argument.\n",
      "  return F.softmax(x)\n"
     ]
    },
    {
     "name": "stdout",
     "output_type": "stream",
     "text": [
      "Train Epoch: 1 [0/60000 (0%)]\t3.911497\n",
      "Train Epoch: 1 [2000/60000 (3%)]\t3.911552\n",
      "Train Epoch: 1 [4000/60000 (7%)]\t3.911393\n",
      "Train Epoch: 1 [6000/60000 (10%)]\t3.912340\n",
      "Train Epoch: 1 [8000/60000 (13%)]\t3.911303\n",
      "Train Epoch: 1 [10000/60000 (17%)]\t3.910873\n",
      "Train Epoch: 1 [12000/60000 (20%)]\t3.911616\n",
      "Train Epoch: 1 [14000/60000 (23%)]\t3.911078\n",
      "Train Epoch: 1 [16000/60000 (27%)]\t3.911034\n",
      "Train Epoch: 1 [18000/60000 (30%)]\t3.911508\n",
      "Train Epoch: 1 [20000/60000 (33%)]\t3.911606\n",
      "Train Epoch: 1 [22000/60000 (37%)]\t3.911731\n",
      "Train Epoch: 1 [24000/60000 (40%)]\t3.911243\n",
      "Train Epoch: 1 [26000/60000 (43%)]\t3.911501\n",
      "Train Epoch: 1 [28000/60000 (47%)]\t3.911093\n",
      "Train Epoch: 1 [30000/60000 (50%)]\t3.910631\n",
      "Train Epoch: 1 [32000/60000 (53%)]\t3.910978\n",
      "Train Epoch: 1 [34000/60000 (57%)]\t3.911584\n",
      "Train Epoch: 1 [36000/60000 (60%)]\t3.911054\n",
      "Train Epoch: 1 [38000/60000 (63%)]\t3.910630\n",
      "Train Epoch: 1 [40000/60000 (67%)]\t3.911276\n",
      "Train Epoch: 1 [42000/60000 (70%)]\t3.911237\n",
      "Train Epoch: 1 [44000/60000 (73%)]\t3.911505\n",
      "Train Epoch: 1 [46000/60000 (77%)]\t3.911613\n",
      "Train Epoch: 1 [48000/60000 (80%)]\t3.911088\n",
      "Train Epoch: 1 [50000/60000 (83%)]\t3.911535\n",
      "Train Epoch: 1 [52000/60000 (87%)]\t3.911065\n",
      "Train Epoch: 1 [54000/60000 (90%)]\t3.911693\n",
      "Train Epoch: 1 [56000/60000 (93%)]\t3.911119\n",
      "Train Epoch: 1 [58000/60000 (97%)]\t3.911735\n",
      "\n",
      "Test set: Average loss: 0.0391, Accuracy 999/10000 (10%\n",
      ")\n",
      "Train Epoch: 2 [0/60000 (0%)]\t3.911869\n",
      "Train Epoch: 2 [2000/60000 (3%)]\t3.911668\n",
      "Train Epoch: 2 [4000/60000 (7%)]\t3.910764\n",
      "Train Epoch: 2 [6000/60000 (10%)]\t3.911417\n",
      "Train Epoch: 2 [8000/60000 (13%)]\t3.911707\n",
      "Train Epoch: 2 [10000/60000 (17%)]\t3.911133\n",
      "Train Epoch: 2 [12000/60000 (20%)]\t3.911864\n",
      "Train Epoch: 2 [14000/60000 (23%)]\t3.911358\n",
      "Train Epoch: 2 [16000/60000 (27%)]\t3.910981\n",
      "Train Epoch: 2 [18000/60000 (30%)]\t3.911282\n",
      "Train Epoch: 2 [20000/60000 (33%)]\t3.911571\n",
      "Train Epoch: 2 [22000/60000 (37%)]\t3.910969\n",
      "Train Epoch: 2 [24000/60000 (40%)]\t3.910531\n",
      "Train Epoch: 2 [26000/60000 (43%)]\t3.911322\n",
      "Train Epoch: 2 [28000/60000 (47%)]\t3.910794\n",
      "Train Epoch: 2 [30000/60000 (50%)]\t3.911674\n",
      "Train Epoch: 2 [32000/60000 (53%)]\t3.912202\n",
      "Train Epoch: 2 [34000/60000 (57%)]\t3.911946\n",
      "Train Epoch: 2 [36000/60000 (60%)]\t3.911982\n",
      "Train Epoch: 2 [38000/60000 (63%)]\t3.912146\n",
      "Train Epoch: 2 [40000/60000 (67%)]\t3.910732\n",
      "Train Epoch: 2 [42000/60000 (70%)]\t3.911444\n",
      "Train Epoch: 2 [44000/60000 (73%)]\t3.911047\n",
      "Train Epoch: 2 [46000/60000 (77%)]\t3.911404\n",
      "Train Epoch: 2 [48000/60000 (80%)]\t3.911762\n",
      "Train Epoch: 2 [50000/60000 (83%)]\t3.911751\n",
      "Train Epoch: 2 [52000/60000 (87%)]\t3.911534\n",
      "Train Epoch: 2 [54000/60000 (90%)]\t3.910880\n",
      "Train Epoch: 2 [56000/60000 (93%)]\t3.910560\n",
      "Train Epoch: 2 [58000/60000 (97%)]\t3.911512\n",
      "\n",
      "Test set: Average loss: 0.0391, Accuracy 999/10000 (10%\n",
      ")\n",
      "Train Epoch: 3 [0/60000 (0%)]\t3.911047\n",
      "Train Epoch: 3 [2000/60000 (3%)]\t3.911506\n",
      "Train Epoch: 3 [4000/60000 (7%)]\t3.911493\n",
      "Train Epoch: 3 [6000/60000 (10%)]\t3.910841\n",
      "Train Epoch: 3 [8000/60000 (13%)]\t3.911320\n",
      "Train Epoch: 3 [10000/60000 (17%)]\t3.911203\n",
      "Train Epoch: 3 [12000/60000 (20%)]\t3.911464\n",
      "Train Epoch: 3 [14000/60000 (23%)]\t3.911448\n",
      "Train Epoch: 3 [16000/60000 (27%)]\t3.911116\n",
      "Train Epoch: 3 [18000/60000 (30%)]\t3.911498\n",
      "Train Epoch: 3 [20000/60000 (33%)]\t3.911097\n",
      "Train Epoch: 3 [22000/60000 (37%)]\t3.911196\n",
      "Train Epoch: 3 [24000/60000 (40%)]\t3.911637\n",
      "Train Epoch: 3 [26000/60000 (43%)]\t3.911450\n",
      "Train Epoch: 3 [28000/60000 (47%)]\t3.910652\n",
      "Train Epoch: 3 [30000/60000 (50%)]\t3.911538\n",
      "Train Epoch: 3 [32000/60000 (53%)]\t3.911217\n",
      "Train Epoch: 3 [34000/60000 (57%)]\t3.911198\n",
      "Train Epoch: 3 [36000/60000 (60%)]\t3.911275\n",
      "Train Epoch: 3 [38000/60000 (63%)]\t3.911393\n",
      "Train Epoch: 3 [40000/60000 (67%)]\t3.912237\n",
      "Train Epoch: 3 [42000/60000 (70%)]\t3.911486\n",
      "Train Epoch: 3 [44000/60000 (73%)]\t3.910974\n",
      "Train Epoch: 3 [46000/60000 (77%)]\t3.911542\n",
      "Train Epoch: 3 [48000/60000 (80%)]\t3.910980\n",
      "Train Epoch: 3 [50000/60000 (83%)]\t3.912120\n",
      "Train Epoch: 3 [52000/60000 (87%)]\t3.911890\n",
      "Train Epoch: 3 [54000/60000 (90%)]\t3.911616\n",
      "Train Epoch: 3 [56000/60000 (93%)]\t3.911384\n",
      "Train Epoch: 3 [58000/60000 (97%)]\t3.911884\n",
      "\n",
      "Test set: Average loss: 0.0391, Accuracy 999/10000 (10%\n",
      ")\n",
      "Train Epoch: 4 [0/60000 (0%)]\t3.911049\n",
      "Train Epoch: 4 [2000/60000 (3%)]\t3.910955\n",
      "Train Epoch: 4 [4000/60000 (7%)]\t3.911004\n",
      "Train Epoch: 4 [6000/60000 (10%)]\t3.911655\n",
      "Train Epoch: 4 [8000/60000 (13%)]\t3.911250\n",
      "Train Epoch: 4 [10000/60000 (17%)]\t3.911146\n",
      "Train Epoch: 4 [12000/60000 (20%)]\t3.911019\n",
      "Train Epoch: 4 [14000/60000 (23%)]\t3.911437\n",
      "Train Epoch: 4 [16000/60000 (27%)]\t3.911149\n",
      "Train Epoch: 4 [18000/60000 (30%)]\t3.910918\n",
      "Train Epoch: 4 [20000/60000 (33%)]\t3.911380\n",
      "Train Epoch: 4 [22000/60000 (37%)]\t3.911495\n",
      "Train Epoch: 4 [24000/60000 (40%)]\t3.911721\n",
      "Train Epoch: 4 [26000/60000 (43%)]\t3.912138\n",
      "Train Epoch: 4 [28000/60000 (47%)]\t3.910373\n",
      "Train Epoch: 4 [30000/60000 (50%)]\t3.911679\n",
      "Train Epoch: 4 [32000/60000 (53%)]\t3.911391\n",
      "Train Epoch: 4 [34000/60000 (57%)]\t3.911354\n",
      "Train Epoch: 4 [36000/60000 (60%)]\t3.911264\n",
      "Train Epoch: 4 [38000/60000 (63%)]\t3.911478\n",
      "Train Epoch: 4 [40000/60000 (67%)]\t3.911686\n",
      "Train Epoch: 4 [42000/60000 (70%)]\t3.910438\n",
      "Train Epoch: 4 [44000/60000 (73%)]\t3.910709\n",
      "Train Epoch: 4 [46000/60000 (77%)]\t3.911521\n",
      "Train Epoch: 4 [48000/60000 (80%)]\t3.910769\n",
      "Train Epoch: 4 [50000/60000 (83%)]\t3.911376\n",
      "Train Epoch: 4 [52000/60000 (87%)]\t3.911911\n",
      "Train Epoch: 4 [54000/60000 (90%)]\t3.910762\n",
      "Train Epoch: 4 [56000/60000 (93%)]\t3.911765\n",
      "Train Epoch: 4 [58000/60000 (97%)]\t3.911077\n",
      "\n",
      "Test set: Average loss: 0.0391, Accuracy 999/10000 (10%\n",
      ")\n",
      "Train Epoch: 5 [0/60000 (0%)]\t3.911294\n",
      "Train Epoch: 5 [2000/60000 (3%)]\t3.911310\n",
      "Train Epoch: 5 [4000/60000 (7%)]\t3.911206\n",
      "Train Epoch: 5 [6000/60000 (10%)]\t3.911998\n",
      "Train Epoch: 5 [8000/60000 (13%)]\t3.910922\n",
      "Train Epoch: 5 [10000/60000 (17%)]\t3.911123\n",
      "Train Epoch: 5 [12000/60000 (20%)]\t3.911314\n",
      "Train Epoch: 5 [14000/60000 (23%)]\t3.911379\n",
      "Train Epoch: 5 [16000/60000 (27%)]\t3.911480\n",
      "Train Epoch: 5 [18000/60000 (30%)]\t3.911502\n",
      "Train Epoch: 5 [20000/60000 (33%)]\t3.911028\n",
      "Train Epoch: 5 [22000/60000 (37%)]\t3.911271\n",
      "Train Epoch: 5 [24000/60000 (40%)]\t3.911765\n",
      "Train Epoch: 5 [26000/60000 (43%)]\t3.911617\n",
      "Train Epoch: 5 [28000/60000 (47%)]\t3.911877\n",
      "Train Epoch: 5 [30000/60000 (50%)]\t3.911565\n",
      "Train Epoch: 5 [32000/60000 (53%)]\t3.911585\n",
      "Train Epoch: 5 [34000/60000 (57%)]\t3.911397\n",
      "Train Epoch: 5 [36000/60000 (60%)]\t3.911189\n",
      "Train Epoch: 5 [38000/60000 (63%)]\t3.911567\n",
      "Train Epoch: 5 [40000/60000 (67%)]\t3.911889\n",
      "Train Epoch: 5 [42000/60000 (70%)]\t3.911520\n",
      "Train Epoch: 5 [44000/60000 (73%)]\t3.910958\n",
      "Train Epoch: 5 [46000/60000 (77%)]\t3.910511\n",
      "Train Epoch: 5 [48000/60000 (80%)]\t3.911813\n",
      "Train Epoch: 5 [50000/60000 (83%)]\t3.911383\n",
      "Train Epoch: 5 [52000/60000 (87%)]\t3.910738\n",
      "Train Epoch: 5 [54000/60000 (90%)]\t3.912051\n",
      "Train Epoch: 5 [56000/60000 (93%)]\t3.910766\n",
      "Train Epoch: 5 [58000/60000 (97%)]\t3.910980\n",
      "\n",
      "Test set: Average loss: 0.0391, Accuracy 999/10000 (10%\n",
      ")\n"
     ]
    }
   ],
   "source": [
    "import time\n",
    "\n",
    "device = torch.device('cpu')\n",
    "\n",
    "model = CNN().to(device)\n",
    "\n",
    "start_time_cpu = time.time()\n",
    "\n",
    "for epoch in range(1,6): # 5 epochs\n",
    "    train(epoch)\n",
    "    test()\n",
    "\n",
    "end_time_cpu = time.time() \n",
    "total_time_cpu = end_time_cpu - start_time_cpu\n",
    "#total_time_cpu\n"
   ]
  },
  {
   "cell_type": "code",
   "execution_count": 12,
   "metadata": {},
   "outputs": [
    {
     "name": "stderr",
     "output_type": "stream",
     "text": [
      "/var/folders/8_/qqhcw4rd4m72212dbpl453gh0000gn/T/ipykernel_4406/845714647.py:24: UserWarning: Implicit dimension choice for softmax has been deprecated. Change the call to include dim=X as an argument.\n",
      "  return F.softmax(x)\n"
     ]
    },
    {
     "name": "stdout",
     "output_type": "stream",
     "text": [
      "Train Epoch: 1 [0/60000 (0%)]\t3.911580\n",
      "Train Epoch: 1 [2000/60000 (3%)]\t3.912125\n",
      "Train Epoch: 1 [4000/60000 (7%)]\t3.912163\n",
      "Train Epoch: 1 [6000/60000 (10%)]\t3.912100\n",
      "Train Epoch: 1 [8000/60000 (13%)]\t3.911898\n",
      "Train Epoch: 1 [10000/60000 (17%)]\t3.912363\n",
      "Train Epoch: 1 [12000/60000 (20%)]\t3.912251\n",
      "Train Epoch: 1 [14000/60000 (23%)]\t3.911770\n",
      "Train Epoch: 1 [16000/60000 (27%)]\t3.911974\n",
      "Train Epoch: 1 [18000/60000 (30%)]\t3.911777\n",
      "Train Epoch: 1 [20000/60000 (33%)]\t3.912202\n",
      "Train Epoch: 1 [22000/60000 (37%)]\t3.912111\n",
      "Train Epoch: 1 [24000/60000 (40%)]\t3.912072\n",
      "Train Epoch: 1 [26000/60000 (43%)]\t3.912187\n",
      "Train Epoch: 1 [28000/60000 (47%)]\t3.912158\n",
      "Train Epoch: 1 [30000/60000 (50%)]\t3.912139\n",
      "Train Epoch: 1 [32000/60000 (53%)]\t3.912007\n",
      "Train Epoch: 1 [34000/60000 (57%)]\t3.911742\n",
      "Train Epoch: 1 [36000/60000 (60%)]\t3.911813\n",
      "Train Epoch: 1 [38000/60000 (63%)]\t3.912134\n",
      "Train Epoch: 1 [40000/60000 (67%)]\t3.912203\n",
      "Train Epoch: 1 [42000/60000 (70%)]\t3.911808\n",
      "Train Epoch: 1 [44000/60000 (73%)]\t3.911544\n",
      "Train Epoch: 1 [46000/60000 (77%)]\t3.912322\n",
      "Train Epoch: 1 [48000/60000 (80%)]\t3.911858\n",
      "Train Epoch: 1 [50000/60000 (83%)]\t3.911622\n",
      "Train Epoch: 1 [52000/60000 (87%)]\t3.911610\n",
      "Train Epoch: 1 [54000/60000 (90%)]\t3.911650\n",
      "Train Epoch: 1 [56000/60000 (93%)]\t3.912122\n",
      "Train Epoch: 1 [58000/60000 (97%)]\t3.912170\n",
      "\n",
      "Test set: Average loss: 0.0391, Accuracy 27/10000 (0%\n",
      ")\n",
      "Train Epoch: 2 [0/60000 (0%)]\t3.911802\n",
      "Train Epoch: 2 [2000/60000 (3%)]\t3.911906\n",
      "Train Epoch: 2 [4000/60000 (7%)]\t3.912364\n",
      "Train Epoch: 2 [6000/60000 (10%)]\t3.911829\n",
      "Train Epoch: 2 [8000/60000 (13%)]\t3.912505\n",
      "Train Epoch: 2 [10000/60000 (17%)]\t3.912133\n",
      "Train Epoch: 2 [12000/60000 (20%)]\t3.911763\n",
      "Train Epoch: 2 [14000/60000 (23%)]\t3.911728\n",
      "Train Epoch: 2 [16000/60000 (27%)]\t3.911946\n",
      "Train Epoch: 2 [18000/60000 (30%)]\t3.911994\n",
      "Train Epoch: 2 [20000/60000 (33%)]\t3.911502\n",
      "Train Epoch: 2 [22000/60000 (37%)]\t3.912141\n",
      "Train Epoch: 2 [24000/60000 (40%)]\t3.912019\n",
      "Train Epoch: 2 [26000/60000 (43%)]\t3.912137\n",
      "Train Epoch: 2 [28000/60000 (47%)]\t3.912701\n",
      "Train Epoch: 2 [30000/60000 (50%)]\t3.911921\n",
      "Train Epoch: 2 [32000/60000 (53%)]\t3.911915\n",
      "Train Epoch: 2 [34000/60000 (57%)]\t3.911625\n",
      "Train Epoch: 2 [36000/60000 (60%)]\t3.911780\n",
      "Train Epoch: 2 [38000/60000 (63%)]\t3.911931\n",
      "Train Epoch: 2 [40000/60000 (67%)]\t3.912067\n",
      "Train Epoch: 2 [42000/60000 (70%)]\t3.911428\n",
      "Train Epoch: 2 [44000/60000 (73%)]\t3.912230\n",
      "Train Epoch: 2 [46000/60000 (77%)]\t3.912305\n",
      "Train Epoch: 2 [48000/60000 (80%)]\t3.911985\n",
      "Train Epoch: 2 [50000/60000 (83%)]\t3.911554\n",
      "Train Epoch: 2 [52000/60000 (87%)]\t3.912269\n",
      "Train Epoch: 2 [54000/60000 (90%)]\t3.912082\n",
      "Train Epoch: 2 [56000/60000 (93%)]\t3.911807\n",
      "Train Epoch: 2 [58000/60000 (97%)]\t3.911740\n",
      "\n",
      "Test set: Average loss: 0.0391, Accuracy 27/10000 (0%\n",
      ")\n",
      "Train Epoch: 3 [0/60000 (0%)]\t3.911774\n",
      "Train Epoch: 3 [2000/60000 (3%)]\t3.912205\n",
      "Train Epoch: 3 [4000/60000 (7%)]\t3.911846\n",
      "Train Epoch: 3 [6000/60000 (10%)]\t3.912035\n",
      "Train Epoch: 3 [8000/60000 (13%)]\t3.911840\n",
      "Train Epoch: 3 [10000/60000 (17%)]\t3.912000\n",
      "Train Epoch: 3 [12000/60000 (20%)]\t3.911684\n",
      "Train Epoch: 3 [14000/60000 (23%)]\t3.911295\n",
      "Train Epoch: 3 [16000/60000 (27%)]\t3.911970\n",
      "Train Epoch: 3 [18000/60000 (30%)]\t3.911454\n",
      "Train Epoch: 3 [20000/60000 (33%)]\t3.912261\n",
      "Train Epoch: 3 [22000/60000 (37%)]\t3.912120\n",
      "Train Epoch: 3 [24000/60000 (40%)]\t3.911816\n",
      "Train Epoch: 3 [26000/60000 (43%)]\t3.912208\n",
      "Train Epoch: 3 [28000/60000 (47%)]\t3.912235\n",
      "Train Epoch: 3 [30000/60000 (50%)]\t3.911681\n",
      "Train Epoch: 3 [32000/60000 (53%)]\t3.911612\n",
      "Train Epoch: 3 [34000/60000 (57%)]\t3.911632\n",
      "Train Epoch: 3 [36000/60000 (60%)]\t3.912173\n",
      "Train Epoch: 3 [38000/60000 (63%)]\t3.911423\n",
      "Train Epoch: 3 [40000/60000 (67%)]\t3.912049\n",
      "Train Epoch: 3 [42000/60000 (70%)]\t3.911899\n",
      "Train Epoch: 3 [44000/60000 (73%)]\t3.912060\n",
      "Train Epoch: 3 [46000/60000 (77%)]\t3.911947\n",
      "Train Epoch: 3 [48000/60000 (80%)]\t3.912071\n",
      "Train Epoch: 3 [50000/60000 (83%)]\t3.911950\n",
      "Train Epoch: 3 [52000/60000 (87%)]\t3.911993\n",
      "Train Epoch: 3 [54000/60000 (90%)]\t3.911857\n",
      "Train Epoch: 3 [56000/60000 (93%)]\t3.912162\n",
      "Train Epoch: 3 [58000/60000 (97%)]\t3.912240\n",
      "\n",
      "Test set: Average loss: 0.0391, Accuracy 27/10000 (0%\n",
      ")\n",
      "Train Epoch: 4 [0/60000 (0%)]\t3.911781\n",
      "Train Epoch: 4 [2000/60000 (3%)]\t3.912080\n",
      "Train Epoch: 4 [4000/60000 (7%)]\t3.911691\n",
      "Train Epoch: 4 [6000/60000 (10%)]\t3.911960\n",
      "Train Epoch: 4 [8000/60000 (13%)]\t3.911831\n",
      "Train Epoch: 4 [10000/60000 (17%)]\t3.912113\n",
      "Train Epoch: 4 [12000/60000 (20%)]\t3.912095\n",
      "Train Epoch: 4 [14000/60000 (23%)]\t3.911897\n",
      "Train Epoch: 4 [16000/60000 (27%)]\t3.911706\n",
      "Train Epoch: 4 [18000/60000 (30%)]\t3.911288\n",
      "Train Epoch: 4 [20000/60000 (33%)]\t3.911905\n",
      "Train Epoch: 4 [22000/60000 (37%)]\t3.912183\n",
      "Train Epoch: 4 [24000/60000 (40%)]\t3.911722\n",
      "Train Epoch: 4 [26000/60000 (43%)]\t3.911781\n",
      "Train Epoch: 4 [28000/60000 (47%)]\t3.912194\n",
      "Train Epoch: 4 [30000/60000 (50%)]\t3.912116\n",
      "Train Epoch: 4 [32000/60000 (53%)]\t3.911863\n",
      "Train Epoch: 4 [34000/60000 (57%)]\t3.911717\n",
      "Train Epoch: 4 [36000/60000 (60%)]\t3.912170\n",
      "Train Epoch: 4 [38000/60000 (63%)]\t3.912176\n",
      "Train Epoch: 4 [40000/60000 (67%)]\t3.912269\n",
      "Train Epoch: 4 [42000/60000 (70%)]\t3.911825\n",
      "Train Epoch: 4 [44000/60000 (73%)]\t3.912499\n",
      "Train Epoch: 4 [46000/60000 (77%)]\t3.912253\n",
      "Train Epoch: 4 [48000/60000 (80%)]\t3.911984\n",
      "Train Epoch: 4 [50000/60000 (83%)]\t3.911302\n",
      "Train Epoch: 4 [52000/60000 (87%)]\t3.912235\n",
      "Train Epoch: 4 [54000/60000 (90%)]\t3.912114\n",
      "Train Epoch: 4 [56000/60000 (93%)]\t3.911865\n",
      "Train Epoch: 4 [58000/60000 (97%)]\t3.911945\n",
      "\n",
      "Test set: Average loss: 0.0391, Accuracy 27/10000 (0%\n",
      ")\n",
      "Train Epoch: 5 [0/60000 (0%)]\t3.911969\n",
      "Train Epoch: 5 [2000/60000 (3%)]\t3.912130\n",
      "Train Epoch: 5 [4000/60000 (7%)]\t3.911566\n",
      "Train Epoch: 5 [6000/60000 (10%)]\t3.912424\n",
      "Train Epoch: 5 [8000/60000 (13%)]\t3.911870\n",
      "Train Epoch: 5 [10000/60000 (17%)]\t3.911611\n",
      "Train Epoch: 5 [12000/60000 (20%)]\t3.911547\n",
      "Train Epoch: 5 [14000/60000 (23%)]\t3.912265\n",
      "Train Epoch: 5 [16000/60000 (27%)]\t3.911768\n",
      "Train Epoch: 5 [18000/60000 (30%)]\t3.911787\n",
      "Train Epoch: 5 [20000/60000 (33%)]\t3.912597\n",
      "Train Epoch: 5 [22000/60000 (37%)]\t3.911899\n",
      "Train Epoch: 5 [24000/60000 (40%)]\t3.911729\n",
      "Train Epoch: 5 [26000/60000 (43%)]\t3.912320\n",
      "Train Epoch: 5 [28000/60000 (47%)]\t3.912016\n",
      "Train Epoch: 5 [30000/60000 (50%)]\t3.912052\n",
      "Train Epoch: 5 [32000/60000 (53%)]\t3.912045\n",
      "Train Epoch: 5 [34000/60000 (57%)]\t3.912057\n",
      "Train Epoch: 5 [36000/60000 (60%)]\t3.911462\n",
      "Train Epoch: 5 [38000/60000 (63%)]\t3.912218\n",
      "Train Epoch: 5 [40000/60000 (67%)]\t3.911748\n",
      "Train Epoch: 5 [42000/60000 (70%)]\t3.912000\n",
      "Train Epoch: 5 [44000/60000 (73%)]\t3.912344\n",
      "Train Epoch: 5 [46000/60000 (77%)]\t3.911917\n",
      "Train Epoch: 5 [48000/60000 (80%)]\t3.911677\n",
      "Train Epoch: 5 [50000/60000 (83%)]\t3.912388\n",
      "Train Epoch: 5 [52000/60000 (87%)]\t3.912167\n",
      "Train Epoch: 5 [54000/60000 (90%)]\t3.911853\n",
      "Train Epoch: 5 [56000/60000 (93%)]\t3.911712\n",
      "Train Epoch: 5 [58000/60000 (97%)]\t3.911689\n",
      "\n",
      "Test set: Average loss: 0.0391, Accuracy 27/10000 (0%\n",
      ")\n"
     ]
    }
   ],
   "source": [
    "device = torch.device('mps') #switching device to GPU\n",
    "\n",
    "model = CNN().to(device)\n",
    "\n",
    "start_time_gpu = time.time()\n",
    "\n",
    "for epoch in range(1,6): # 5 epochs\n",
    "    train(epoch)\n",
    "    test()\n",
    "\n",
    "end_time_gpu = time.time() \n",
    "total_time_gpu = end_time_gpu - start_time_gpu\n",
    "#total_time_gpu\n"
   ]
  },
  {
   "cell_type": "code",
   "execution_count": 14,
   "metadata": {},
   "outputs": [
    {
     "name": "stdout",
     "output_type": "stream",
     "text": [
      "Stats for 5 epochs:\n",
      "Time training for CPU is: 35.92 seconds.\n",
      "Time training for GPU is: 24.58 seconds.\n",
      "\n",
      "The GPU outpreformed the CPU for: 11.34 seconds.\n",
      "The GPU was: 1.461479 times faster.\n",
      "The GPU was: 31.576156 % faster.\n"
     ]
    }
   ],
   "source": [
    "print('Stats for 5 epochs:')\n",
    "print(f\"Time training for CPU is: {total_time_cpu:.2f} seconds.\")\n",
    "print(f\"Time training for GPU is: {total_time_gpu:.2f} seconds.\\n\")\n",
    "\n",
    "if total_time_cpu > total_time_gpu:\n",
    "    print(f\"The GPU outpreformed the CPU for: {total_time_cpu-total_time_gpu:.2f} seconds.\")\n",
    "    print(f\"The GPU was: {total_time_cpu/total_time_gpu:2f} times faster.\")\n",
    "    print(f\"The GPU was: {(total_time_cpu - total_time_gpu) / total_time_cpu * 100:2f} % faster.\")\n",
    "else:\n",
    "    print(f\"The CPU outpreformed the CPU for: {total_time_gpu-total_time_cpu:.2f} seconds. or {total_time_cpu/total_time_gpu*100:2f}%.\")\n",
    "    print(f\"The CPU was: {total_time_gpu/total_time_cpu:2f} times faster.\")\n",
    "    print(f\"The CPU was: {(total_time_gpu - total_time_cpu) / total_time_gpu * 100:2f} % faster.\")"
   ]
  },
  {
   "cell_type": "code",
   "execution_count": null,
   "metadata": {},
   "outputs": [],
   "source": [
    "device = torch.device('cpu')\n",
    "\n",
    "model = CNN().to(device)\n",
    "\n",
    "start_time_cpu = time.time()\n",
    "\n",
    "for epoch in range(1,11): # 10 epochs\n",
    "    train(epoch)\n",
    "    test()\n",
    "\n",
    "end_time_cpu = time.time() \n",
    "total_time_cpu = end_time_cpu - start_time_cpu"
   ]
  },
  {
   "cell_type": "code",
   "execution_count": null,
   "metadata": {},
   "outputs": [],
   "source": [
    "device = torch.device('mps') #switching device to GPU\n",
    "\n",
    "model = CNN().to(device)\n",
    "\n",
    "start_time_gpu = time.time()\n",
    "\n",
    "for epoch in range(1,11): # 10 epochs\n",
    "    train(epoch)\n",
    "    test()\n",
    "\n",
    "end_time_gpu = time.time() \n",
    "total_time_gpu = end_time_gpu - start_time_gpu"
   ]
  },
  {
   "cell_type": "code",
   "execution_count": null,
   "metadata": {},
   "outputs": [],
   "source": []
  },
  {
   "cell_type": "code",
   "execution_count": null,
   "metadata": {},
   "outputs": [],
   "source": []
  },
  {
   "cell_type": "code",
   "execution_count": null,
   "metadata": {},
   "outputs": [],
   "source": []
  },
  {
   "cell_type": "code",
   "execution_count": 97,
   "metadata": {},
   "outputs": [
    {
     "name": "stdout",
     "output_type": "stream",
     "text": [
      "Time training for CPU is: 67.75 seconds.\n",
      "Time training for GPU is: 48.18 seconds.\n",
      "\n",
      "The GPU outpreformed the CPU for: 19.57 seconds.\n",
      "The GPU was: 1.406161 times faster.\n",
      "The GPU was: 28.884371 % faster.\n"
     ]
    }
   ],
   "source": [
    "\n",
    "\n"
   ]
  }
 ],
 "metadata": {
  "kernelspec": {
   "display_name": "Python 3",
   "language": "python",
   "name": "python3"
  },
  "language_info": {
   "codemirror_mode": {
    "name": "ipython",
    "version": 3
   },
   "file_extension": ".py",
   "mimetype": "text/x-python",
   "name": "python",
   "nbconvert_exporter": "python",
   "pygments_lexer": "ipython3",
   "version": "3.12.2"
  }
 },
 "nbformat": 4,
 "nbformat_minor": 2
}
